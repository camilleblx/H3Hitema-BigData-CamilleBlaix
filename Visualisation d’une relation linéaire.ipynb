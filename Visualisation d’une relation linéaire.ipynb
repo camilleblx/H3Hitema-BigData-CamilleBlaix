{
 "cells": [
  {
   "cell_type": "raw",
   "metadata": {},
   "source": [
    "1) Importez les librairies qu’il vous faut"
   ]
  },
  {
   "cell_type": "code",
   "execution_count": 1,
   "metadata": {},
   "outputs": [],
   "source": [
    "import numpy as np\n",
    "import pandas as pd\n",
    "import matplotlib as mp \n",
    "import seaborn as sns"
   ]
  },
  {
   "cell_type": "code",
   "execution_count": 2,
   "metadata": {},
   "outputs": [
    {
     "name": "stdout",
     "output_type": "stream",
     "text": [
      "data loaded\n"
     ]
    }
   ],
   "source": [
    "df = pd.read_csv('/Users/camilleblx/Desktop/Development-BigData/yourenv/bin/ibm_hr_attrition.csv')\n",
    "print('data loaded')"
   ]
  },
  {
   "cell_type": "raw",
   "metadata": {},
   "source": [
    "2) On voudrait connaître la probabilité de partir de l’entreprise par rapport à la\n",
    "distance par rapport à la maison. Utilisez lmplot() pour visualiser cela. Que\n",
    "pouvez vous conclure ?"
   ]
  },
  {
   "cell_type": "code",
   "execution_count": 3,
   "metadata": {},
   "outputs": [
    {
     "data": {
      "text/plain": [
       "<seaborn.axisgrid.FacetGrid at 0x10d057ad0>"
      ]
     },
     "execution_count": 3,
     "metadata": {},
     "output_type": "execute_result"
    },
    {
     "data": {
      "image/png": "[encoded data removed]",
      "text/plain": [
       "<Figure size 360x360 with 1 Axes>"
      ]
     },
     "metadata": {
      "needs_background": "light"
     },
     "output_type": "display_data"
    }
   ],
   "source": [
    "df.Attrition = df.Attrition.replace(to_replace=['Yes','No'],value=[1,0])\n",
    "sns.lmplot(x='DistanceFromHome', y='Attrition', data=df)"
   ]
  },
  {
   "cell_type": "raw",
   "metadata": {},
   "source": [
    "3) Tentez le cette fois avec le nombre d’années passées avec le Manager\n",
    "(YearsWithCurrManager), que pouvez vous conclure ?"
   ]
  },
  {
   "cell_type": "code",
   "execution_count": null,
   "metadata": {},
   "outputs": [],
   "source": [
    "sns.lmplot(x='YearsWithCurrManager', y='Attrition', data=df)"
   ]
  }
 ],
 "metadata": {
  "kernelspec": {
   "display_name": "Python 3",
   "language": "python",
   "name": "python3"
  },
  "language_info": {
   "codemirror_mode": {
    "name": "ipython",
    "version": 3
   },
   "file_extension": ".py",
   "mimetype": "text/x-python",
   "name": "python",
   "nbconvert_exporter": "python",
   "pygments_lexer": "ipython3",
   "version": "3.7.6"
  }
 },
 "nbformat": 4,
 "nbformat_minor": 4
}
