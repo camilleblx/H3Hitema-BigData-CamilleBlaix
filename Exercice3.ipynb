{
 "cells": [
  {
   "cell_type": "code",
   "execution_count": 60,
   "metadata": {},
   "outputs": [],
   "source": [
    "class DateNaissance:\n",
    "    \n",
    "    def __init__(self,jour,mois,annee):\n",
    "        self.jour=jour\n",
    "        self.mois=mois\n",
    "        self.annee=annee\n",
    "         \n",
    "    def ToString(self):\n",
    "        return \"%02d / %02d / %d\" %(self.jour,self.mois,self.annee)"
   ]
  },
  {
   "cell_type": "code",
   "execution_count": 54,
   "metadata": {},
   "outputs": [],
   "source": [
    "class personne:\n",
    "    \n",
    "    def __init__(self,nom,prenom,date_naissance):\n",
    "        self.nom=nom \n",
    "        self.prenom=prenom\n",
    "        self.date_naissance=date_naissance\n",
    "         \n",
    "    def afficher(self):\n",
    "        print(self.nom + \" \\n\" + self.prenom + \" \\n\" + self.date_naissance.ToString())"
   ]
  },
  {
   "cell_type": "code",
   "execution_count": 55,
   "metadata": {},
   "outputs": [],
   "source": [
    "class employe(personne):\n",
    " \n",
    "    def __init__(self,nom,prenom,date_naissance,salaire):\n",
    "        personne.__init__(self,nom,prenom,date_naissance)\n",
    "        self.salaire=salaire\n",
    "        \n",
    "    def afficher(self):\n",
    "        personne.afficher(self)\n",
    "        print(\"Salaire: %.02f\"%self.salaire)"
   ]
  },
  {
   "cell_type": "code",
   "execution_count": 61,
   "metadata": {},
   "outputs": [],
   "source": [
    "class chef(employe):\n",
    "    \n",
    "    def __init__(self,nom,prenom,date_naissance,salaire,service):\n",
    "        employe.__init__(self,nom,prenom,date_naissance,salaire)\n",
    "        self.service=service\n",
    "        \n",
    "    def afficher(self):\n",
    "        employe.afficher(self)\n",
    "        print(self.service)"
   ]
  },
  {
   "cell_type": "code",
   "execution_count": 65,
   "metadata": {},
   "outputs": [
    {
     "name": "stdout",
     "output_type": "stream",
     "text": [
      "Ilyass \n",
      "Math \n",
      "01 / 07 / 1982\n"
     ]
    }
   ],
   "source": [
    "P=personne(\"Ilyass\",\"Math\",DateNaissance(1,7,1982))\n",
    "P.afficher()"
   ]
  },
  {
   "cell_type": "code",
   "execution_count": 66,
   "metadata": {},
   "outputs": [
    {
     "name": "stdout",
     "output_type": "stream",
     "text": [
      "Ilyass \n",
      "Math \n",
      "01 / 07 / 1985\n",
      "Salaire: 7865.55\n"
     ]
    }
   ],
   "source": [
    "E=employe(\"Ilyass\",\"Math\",DateNaissance(1,7,1985),7865.548)\n",
    "E.afficher()"
   ]
  },
  {
   "cell_type": "code",
   "execution_count": 67,
   "metadata": {},
   "outputs": [
    {
     "name": "stdout",
     "output_type": "stream",
     "text": [
      "Ilyass \n",
      "Math \n",
      "01 / 07 / 1988\n",
      "Salaire: 7865.55\n",
      "Ressource humaine\n"
     ]
    }
   ],
   "source": [
    "Ch=chef(\"Ilyass\",\"Math\",DateNaissance(1,7,1988),7865.548,\"Ressource humaine\")\n",
    "Ch.afficher()"
   ]
  }
 ],
 "metadata": {
  "kernelspec": {
   "display_name": "Python 3",
   "language": "python",
   "name": "python3"
  },
  "language_info": {
   "codemirror_mode": {
    "name": "ipython",
    "version": 3
   },
   "file_extension": ".py",
   "mimetype": "text/x-python",
   "name": "python",
   "nbconvert_exporter": "python",
   "pygments_lexer": "ipython3",
   "version": "3.7.6"
  }
 },
 "nbformat": 4,
 "nbformat_minor": 4
}
