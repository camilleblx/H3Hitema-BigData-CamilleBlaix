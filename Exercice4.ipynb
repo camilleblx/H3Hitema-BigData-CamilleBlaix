{
 "cells": [
  {
   "cell_type": "code",
   "execution_count": 45,
   "metadata": {},
   "outputs": [],
   "source": [
    "class Courrier:\n",
    "     \n",
    "    def __init__(self,AdresseDestination,AdressExpedition,poids,mode):\n",
    "        self.AdresseDestination=AdresseDestination\n",
    "        self.AdressExpedition=AdressExpedition\n",
    "        self.poids=poids\n",
    "        self.mode=mode\n",
    "         \n",
    "    def ToString(self):\n",
    "         \n",
    "        print(\" Adresse de destination : \"+self.AdresseDestination+\" \\n Adresse d'expédition : \"+self.AdressExpedition+\"\\n Poids : %.2f grammes\\n Mode : %s \"%(self.poids,self.mode))\n",
    " \n"
   ]
  },
  {
   "cell_type": "code",
   "execution_count": 44,
   "metadata": {},
   "outputs": [],
   "source": [
    "class Lettre(Courrier):\n",
    "    \n",
    "    def __init__(self,AdresseDestination,AdressExpedition,poids,mode,format):\n",
    "        \n",
    "        Courrier.__init__(self,AdresseDestination,AdressExpedition,poids,mode)\n",
    "        self.format=format\n",
    "         \n",
    "    def calculTimbre(self):\n",
    "         \n",
    "        if self.format==\"A4\":tarif_base=2.5\n",
    "        if self.format==\"A3\":tarif_base=3.5\n",
    "         \n",
    "        montant=tarif_base*self.poids/1000\n",
    "         \n",
    "        if self.mode==\"express\":\n",
    "            montant*=2\n",
    "         \n",
    "        return montant\n",
    "         \n",
    "    def ToString(self):\n",
    "        print(\"Lettre : \")\n",
    "        Courrier.ToString(self)\n",
    "        print(\" Format : %s\\n Prix du timbre : %.2f\"%(self.format,self.calculTimbre()))"
   ]
  },
  {
   "cell_type": "code",
   "execution_count": 39,
   "metadata": {},
   "outputs": [],
   "source": [
    " class Colis(Courrier):\n",
    "    def __init__(self,AdresseDestination,AdressExpedition,poids,mode,volume):\n",
    "        Courrier.__init__(self,AdresseDestination,AdressExpedition,poids,mode)\n",
    "        self.volume=volume\n",
    "        \n",
    "    def calculTimbre(self):\n",
    "        montant=0.0\n",
    "        montant=0.25*self.volume*self.poids/1000\n",
    "        if self.mode==\"express\":\n",
    "            montant*=2\n",
    "        return montant\n",
    "         \n",
    "    def ToString(self):\n",
    "        print(\"Colis : \")\n",
    "        Courrier.ToString(self)\n",
    "        print(\" Volume : %.2f litres\\n Prix du timbre : %.2f\"%(self.volume,self.calculTimbre()))"
   ]
  },
  {
   "cell_type": "code",
   "execution_count": 43,
   "metadata": {},
   "outputs": [
    {
     "name": "stdout",
     "output_type": "stream",
     "text": [
      "Lettre : \n",
      " Adresse de destination: Lille \n",
      " Adresse d'expédition: Paris\n",
      " Poids: 80.00 grammes\n",
      " Mode: normal \n",
      " Format : A4\n",
      " Prix du timbre : 0.20\n"
     ]
    }
   ],
   "source": [
    "L1=Lettre(\"Lille\",\"Paris\",80,\"normal\",\"A4\")\n",
    "L1.ToString()"
   ]
  },
  {
   "cell_type": "code",
   "execution_count": 46,
   "metadata": {},
   "outputs": [
    {
     "name": "stdout",
     "output_type": "stream",
     "text": [
      "Colis : \n",
      " Adresse de destination : Marrakeche \n",
      " Adresse d'expédition : Barcelone\n",
      " Poids : 3500.00 grammes\n",
      " Mode : expresse \n",
      " Volume : 2.25 litres\n",
      " Prix du timbre : 1.97\n"
     ]
    }
   ],
   "source": [
    "C1=Colis(\"Marrakeche\",\"Barcelone\",3500,\"expresse\",2.25)\n",
    "C1.ToString()"
   ]
  },
  {
   "cell_type": "code",
   "execution_count": null,
   "metadata": {},
   "outputs": [],
   "source": []
  }
 ],
 "metadata": {
  "kernelspec": {
   "display_name": "Python 3",
   "language": "python",
   "name": "python3"
  },
  "language_info": {
   "codemirror_mode": {
    "name": "ipython",
    "version": 3
   },
   "file_extension": ".py",
   "mimetype": "text/x-python",
   "name": "python",
   "nbconvert_exporter": "python",
   "pygments_lexer": "ipython3",
   "version": "3.7.6"
  }
 },
 "nbformat": 4,
 "nbformat_minor": 4
}
